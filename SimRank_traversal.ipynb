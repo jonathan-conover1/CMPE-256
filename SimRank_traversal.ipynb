{
 "cells": [
  {
   "cell_type": "code",
   "execution_count": 1,
   "metadata": {},
   "outputs": [],
   "source": [
    "from datetime import date\n",
    "from operator import index\n",
    "import numpy as np\n",
    "import json\n",
    "import networkx as nx\n",
    "import matplotlib.pyplot as plt\n",
    "from pathlib import Path\n",
    "import pandas as pd\n",
    "from scipy.spatial.distance import cosine\n"
   ]
  },
  {
   "cell_type": "code",
   "execution_count": 2,
   "metadata": {},
   "outputs": [
    {
     "name": "stdout",
     "output_type": "stream",
     "text": [
      "dict_keys(['starwars-episode-1-interactions-allCharacters', 'starwars-episode-2-interactions-allCharacters', 'starwars-episode-3-interactions-allCharacters', 'starwars-episode-4-interactions-allCharacters', 'starwars-episode-5-interactions-allCharacters', 'starwars-episode-6-interactions-allCharacters', 'starwars-episode-7-interactions-allCharacters'])\n"
     ]
    }
   ],
   "source": [
    "all_star_wars = {}\n",
    "movies = Path('data/')\n",
    "for movie in movies.iterdir():\n",
    "    if 'starwars-full' not in movie.name and 'allCharacters' in movie.name:\n",
    "        with open(movie.resolve()) as f:\n",
    "            key = movie.name.replace('.json','')\n",
    "            all_star_wars[key] = json.load(f)\n",
    "    else:\n",
    "        pass\n",
    "        \n",
    "print(all_star_wars.keys())"
   ]
  },
  {
   "cell_type": "code",
   "execution_count": 8,
   "metadata": {},
   "outputs": [
    {
     "name": "stdout",
     "output_type": "stream",
     "text": [
      "Number of Nodes: 20\n",
      "Number of Edges: 54\n",
      "ANAKIN/VADER: 16\n"
     ]
    }
   ],
   "source": [
    "inter_graphs = {}\n",
    "for key in all_star_wars.keys():\n",
    "    ana_var = 0\n",
    "    ana_var_edges = []\n",
    "    if 'interactions' in key:\n",
    "        holistic_interaction = nx.Graph()\n",
    "        \n",
    "        for node in all_star_wars[key]['nodes']:\n",
    "            if 'ANAKIN' in node['name'] or 'DARTH VADER' in node['name']:\n",
    "                ana_var +=node['value']\n",
    "            else:\n",
    "                holistic_interaction.add_node(node['name'])\n",
    "                nx.set_node_attributes(holistic_interaction,{node['name']:node['value']}, name=\"Amount of Scences\")\n",
    "\n",
    "        holistic_interaction.add_node(\"ANAKIN/VADER\")\n",
    "        nx.set_node_attributes(holistic_interaction,{\"ANAKIN/VADER\":ana_var}, name=\"Amount of Scences\")\n",
    "        \n",
    "        for edge in all_star_wars[key]['links']:\n",
    "            src_name = all_star_wars[key]['nodes'][edge['source']]['name']\n",
    "            dest_name = all_star_wars[key]['nodes'][edge['target']]['name']\n",
    "            \n",
    "            if 'ANAKIN' in src_name or \"DARTH VADER\" in src_name:\n",
    "                src_name = \"ANAKIN/VADER\"\n",
    "            elif 'ANAKIN' in dest_name or \"DARTH VADER\" in dest_name:\n",
    "                dest_name = \"ANAKIN/VADER\"\n",
    "\n",
    "            holistic_interaction.add_edge(src_name,dest_name,weight=edge['value'])\n",
    "        \n",
    "    try:\n",
    "        holistic_interaction.remove_node(\"GOLD FIVE\")\n",
    "    except:\n",
    "        pass           \n",
    "        \n",
    "\n",
    "    inter_graphs[key] = holistic_interaction\n",
    "\n",
    "    \n",
    "\n",
    "# Check for proper loadings\n",
    "print(\"Number of Nodes: {}\".format(inter_graphs[\"starwars-episode-6-interactions-allCharacters\"].number_of_nodes()))\n",
    "print(\"Number of Edges: {}\".format(inter_graphs[\"starwars-episode-6-interactions-allCharacters\"].number_of_edges()))\n",
    "print(\"ANAKIN/VADER: {}\".format(inter_graphs[\"starwars-episode-6-interactions-allCharacters\"].nodes['ANAKIN/VADER']['Amount of Scences']))\n",
    "\n"
   ]
  },
  {
   "cell_type": "code",
   "execution_count": 9,
   "metadata": {},
   "outputs": [],
   "source": [
    "def sim_rank_pd(who,ignore):\n",
    "    sim_dict = {}\n",
    "    for i in all_star_wars.keys():\n",
    "        if i not in ignore:\n",
    "                \n",
    "            sim_rank = nx.simrank_similarity(inter_graphs[i], source=who)\n",
    "            sim_rank_pd = pd.DataFrame(data=sim_rank.values(),index=sim_rank.keys())\n",
    "            sim_rank_pd.rename({0:'ANAKIN/VADER'},inplace=True,axis=1)\n",
    "            sim_rank_pd.drop(axis=0,labels=\"ANAKIN/VADER\",inplace=True)\n",
    "            sim_rank_pd.sort_values(by='ANAKIN/VADER',axis=0, inplace=True,ascending=False)\n",
    "            sim_dict[i] = sim_rank_pd\n",
    "\n",
    "    return sim_dict\n",
    "\n",
    "def combine(pd1,pd2):\n",
    "    ind1 = pd1.index.values\n",
    "    ind2 = pd2.index.values\n",
    "\n",
    "    combined_ind = np.append(ind1,ind2)\n",
    "    combined_ind = np.unique(combined_ind)\n",
    "    new_pd1 = pd.DataFrame(index=combined_ind)\n",
    "    new_pd2 = pd.DataFrame(index=combined_ind)\n",
    "\n",
    "    new_pd1 = new_pd1.join(pd1)\n",
    "    new_pd2 = new_pd2.join(pd2)\n",
    "\n",
    "    new_pd1.fillna(0,inplace=True)\n",
    "    new_pd2.fillna(0,inplace=True)\n",
    "\n",
    "    return new_pd1, new_pd2\n",
    "\n",
    "def calc_sim_rank(graph1, graph2):\n",
    "    \n",
    "    graph1_pd, graph2_pd = combine(graph1,graph2)\n",
    "\n",
    "    for col in graph1_pd.columns.values:\n",
    "        cos = 1-cosine(graph1_pd[col],graph2_pd[col])\n",
    "\n",
    "    return cos\n",
    "\n"
   ]
  },
  {
   "cell_type": "code",
   "execution_count": 10,
   "metadata": {},
   "outputs": [],
   "source": [
    "sim_rank_by_movie = sim_rank_pd('ANAKIN/VADER','starwars-episode-7-interactions-allCharacters')"
   ]
  },
  {
   "cell_type": "code",
   "execution_count": 11,
   "metadata": {},
   "outputs": [
    {
     "name": "stdout",
     "output_type": "stream",
     "text": [
      "starwars-episode-1-interactions-allCharacters\n"
     ]
    },
    {
     "data": {
      "text/html": [
       "<div>\n",
       "<style scoped>\n",
       "    .dataframe tbody tr th:only-of-type {\n",
       "        vertical-align: middle;\n",
       "    }\n",
       "\n",
       "    .dataframe tbody tr th {\n",
       "        vertical-align: top;\n",
       "    }\n",
       "\n",
       "    .dataframe thead th {\n",
       "        text-align: right;\n",
       "    }\n",
       "</style>\n",
       "<table border=\"1\" class=\"dataframe\">\n",
       "  <thead>\n",
       "    <tr style=\"text-align: right;\">\n",
       "      <th></th>\n",
       "      <th>ANAKIN/VADER</th>\n",
       "    </tr>\n",
       "  </thead>\n",
       "  <tbody>\n",
       "    <tr>\n",
       "      <th>WATTO</th>\n",
       "      <td>0.441550</td>\n",
       "    </tr>\n",
       "    <tr>\n",
       "      <th>JIRA</th>\n",
       "      <td>0.431373</td>\n",
       "    </tr>\n",
       "    <tr>\n",
       "      <th>R2-D2</th>\n",
       "      <td>0.428387</td>\n",
       "    </tr>\n",
       "    <tr>\n",
       "      <th>SHMI</th>\n",
       "      <td>0.428196</td>\n",
       "    </tr>\n",
       "    <tr>\n",
       "      <th>C-3PO</th>\n",
       "      <td>0.428069</td>\n",
       "    </tr>\n",
       "  </tbody>\n",
       "</table>\n",
       "</div>"
      ],
      "text/plain": [
       "       ANAKIN/VADER\n",
       "WATTO      0.441550\n",
       "JIRA       0.431373\n",
       "R2-D2      0.428387\n",
       "SHMI       0.428196\n",
       "C-3PO      0.428069"
      ]
     },
     "metadata": {},
     "output_type": "display_data"
    },
    {
     "name": "stdout",
     "output_type": "stream",
     "text": [
      "starwars-episode-2-interactions-allCharacters\n"
     ]
    },
    {
     "data": {
      "text/html": [
       "<div>\n",
       "<style scoped>\n",
       "    .dataframe tbody tr th:only-of-type {\n",
       "        vertical-align: middle;\n",
       "    }\n",
       "\n",
       "    .dataframe tbody tr th {\n",
       "        vertical-align: top;\n",
       "    }\n",
       "\n",
       "    .dataframe thead th {\n",
       "        text-align: right;\n",
       "    }\n",
       "</style>\n",
       "<table border=\"1\" class=\"dataframe\">\n",
       "  <thead>\n",
       "    <tr style=\"text-align: right;\">\n",
       "      <th></th>\n",
       "      <th>ANAKIN/VADER</th>\n",
       "    </tr>\n",
       "  </thead>\n",
       "  <tbody>\n",
       "    <tr>\n",
       "      <th>PK-4</th>\n",
       "      <td>0.449538</td>\n",
       "    </tr>\n",
       "    <tr>\n",
       "      <th>C-3PO</th>\n",
       "      <td>0.425510</td>\n",
       "    </tr>\n",
       "    <tr>\n",
       "      <th>OWEN</th>\n",
       "      <td>0.410825</td>\n",
       "    </tr>\n",
       "    <tr>\n",
       "      <th>R2-D2</th>\n",
       "      <td>0.410678</td>\n",
       "    </tr>\n",
       "    <tr>\n",
       "      <th>LAMA SU</th>\n",
       "      <td>0.410132</td>\n",
       "    </tr>\n",
       "  </tbody>\n",
       "</table>\n",
       "</div>"
      ],
      "text/plain": [
       "         ANAKIN/VADER\n",
       "PK-4         0.449538\n",
       "C-3PO        0.425510\n",
       "OWEN         0.410825\n",
       "R2-D2        0.410678\n",
       "LAMA SU      0.410132"
      ]
     },
     "metadata": {},
     "output_type": "display_data"
    },
    {
     "name": "stdout",
     "output_type": "stream",
     "text": [
      "starwars-episode-3-interactions-allCharacters\n"
     ]
    },
    {
     "data": {
      "text/html": [
       "<div>\n",
       "<style scoped>\n",
       "    .dataframe tbody tr th:only-of-type {\n",
       "        vertical-align: middle;\n",
       "    }\n",
       "\n",
       "    .dataframe tbody tr th {\n",
       "        vertical-align: top;\n",
       "    }\n",
       "\n",
       "    .dataframe thead th {\n",
       "        text-align: right;\n",
       "    }\n",
       "</style>\n",
       "<table border=\"1\" class=\"dataframe\">\n",
       "  <thead>\n",
       "    <tr style=\"text-align: right;\">\n",
       "      <th></th>\n",
       "      <th>ANAKIN/VADER</th>\n",
       "    </tr>\n",
       "  </thead>\n",
       "  <tbody>\n",
       "    <tr>\n",
       "      <th>TION MEDON</th>\n",
       "      <td>0.621482</td>\n",
       "    </tr>\n",
       "    <tr>\n",
       "      <th>CLONE COMMANDER CODY</th>\n",
       "      <td>0.524385</td>\n",
       "    </tr>\n",
       "    <tr>\n",
       "      <th>ODD BALL</th>\n",
       "      <td>0.523899</td>\n",
       "    </tr>\n",
       "    <tr>\n",
       "      <th>GENERAL GRIEVOUS</th>\n",
       "      <td>0.519421</td>\n",
       "    </tr>\n",
       "    <tr>\n",
       "      <th>YODA</th>\n",
       "      <td>0.508332</td>\n",
       "    </tr>\n",
       "  </tbody>\n",
       "</table>\n",
       "</div>"
      ],
      "text/plain": [
       "                      ANAKIN/VADER\n",
       "TION MEDON                0.621482\n",
       "CLONE COMMANDER CODY      0.524385\n",
       "ODD BALL                  0.523899\n",
       "GENERAL GRIEVOUS          0.519421\n",
       "YODA                      0.508332"
      ]
     },
     "metadata": {},
     "output_type": "display_data"
    },
    {
     "name": "stdout",
     "output_type": "stream",
     "text": [
      "starwars-episode-4-interactions-allCharacters\n"
     ]
    },
    {
     "data": {
      "text/html": [
       "<div>\n",
       "<style scoped>\n",
       "    .dataframe tbody tr th:only-of-type {\n",
       "        vertical-align: middle;\n",
       "    }\n",
       "\n",
       "    .dataframe tbody tr th {\n",
       "        vertical-align: top;\n",
       "    }\n",
       "\n",
       "    .dataframe thead th {\n",
       "        text-align: right;\n",
       "    }\n",
       "</style>\n",
       "<table border=\"1\" class=\"dataframe\">\n",
       "  <thead>\n",
       "    <tr style=\"text-align: right;\">\n",
       "      <th></th>\n",
       "      <th>ANAKIN/VADER</th>\n",
       "    </tr>\n",
       "  </thead>\n",
       "  <tbody>\n",
       "    <tr>\n",
       "      <th>MOTTI</th>\n",
       "      <td>0.544923</td>\n",
       "    </tr>\n",
       "    <tr>\n",
       "      <th>TARKIN</th>\n",
       "      <td>0.360995</td>\n",
       "    </tr>\n",
       "    <tr>\n",
       "      <th>HAN</th>\n",
       "      <td>0.343962</td>\n",
       "    </tr>\n",
       "    <tr>\n",
       "      <th>LUKE</th>\n",
       "      <td>0.343810</td>\n",
       "    </tr>\n",
       "    <tr>\n",
       "      <th>CHEWBACCA</th>\n",
       "      <td>0.342061</td>\n",
       "    </tr>\n",
       "  </tbody>\n",
       "</table>\n",
       "</div>"
      ],
      "text/plain": [
       "           ANAKIN/VADER\n",
       "MOTTI          0.544923\n",
       "TARKIN         0.360995\n",
       "HAN            0.343962\n",
       "LUKE           0.343810\n",
       "CHEWBACCA      0.342061"
      ]
     },
     "metadata": {},
     "output_type": "display_data"
    },
    {
     "name": "stdout",
     "output_type": "stream",
     "text": [
      "starwars-episode-5-interactions-allCharacters\n"
     ]
    },
    {
     "data": {
      "text/html": [
       "<div>\n",
       "<style scoped>\n",
       "    .dataframe tbody tr th:only-of-type {\n",
       "        vertical-align: middle;\n",
       "    }\n",
       "\n",
       "    .dataframe tbody tr th {\n",
       "        vertical-align: top;\n",
       "    }\n",
       "\n",
       "    .dataframe thead th {\n",
       "        text-align: right;\n",
       "    }\n",
       "</style>\n",
       "<table border=\"1\" class=\"dataframe\">\n",
       "  <thead>\n",
       "    <tr style=\"text-align: right;\">\n",
       "      <th></th>\n",
       "      <th>ANAKIN/VADER</th>\n",
       "    </tr>\n",
       "  </thead>\n",
       "  <tbody>\n",
       "    <tr>\n",
       "      <th>NEEDA</th>\n",
       "      <td>0.463108</td>\n",
       "    </tr>\n",
       "    <tr>\n",
       "      <th>OZZEL</th>\n",
       "      <td>0.463108</td>\n",
       "    </tr>\n",
       "    <tr>\n",
       "      <th>BOBA FETT</th>\n",
       "      <td>0.435434</td>\n",
       "    </tr>\n",
       "    <tr>\n",
       "      <th>LEIA</th>\n",
       "      <td>0.431858</td>\n",
       "    </tr>\n",
       "    <tr>\n",
       "      <th>CHEWBACCA</th>\n",
       "      <td>0.430853</td>\n",
       "    </tr>\n",
       "  </tbody>\n",
       "</table>\n",
       "</div>"
      ],
      "text/plain": [
       "           ANAKIN/VADER\n",
       "NEEDA          0.463108\n",
       "OZZEL          0.463108\n",
       "BOBA FETT      0.435434\n",
       "LEIA           0.431858\n",
       "CHEWBACCA      0.430853"
      ]
     },
     "metadata": {},
     "output_type": "display_data"
    },
    {
     "name": "stdout",
     "output_type": "stream",
     "text": [
      "starwars-episode-6-interactions-allCharacters\n"
     ]
    },
    {
     "data": {
      "text/html": [
       "<div>\n",
       "<style scoped>\n",
       "    .dataframe tbody tr th:only-of-type {\n",
       "        vertical-align: middle;\n",
       "    }\n",
       "\n",
       "    .dataframe tbody tr th {\n",
       "        vertical-align: top;\n",
       "    }\n",
       "\n",
       "    .dataframe thead th {\n",
       "        text-align: right;\n",
       "    }\n",
       "</style>\n",
       "<table border=\"1\" class=\"dataframe\">\n",
       "  <thead>\n",
       "    <tr style=\"text-align: right;\">\n",
       "      <th></th>\n",
       "      <th>ANAKIN/VADER</th>\n",
       "    </tr>\n",
       "  </thead>\n",
       "  <tbody>\n",
       "    <tr>\n",
       "      <th>OBI-WAN</th>\n",
       "      <td>0.374823</td>\n",
       "    </tr>\n",
       "    <tr>\n",
       "      <th>YODA</th>\n",
       "      <td>0.374823</td>\n",
       "    </tr>\n",
       "    <tr>\n",
       "      <th>LUKE</th>\n",
       "      <td>0.354217</td>\n",
       "    </tr>\n",
       "    <tr>\n",
       "      <th>BIB FORTUNA</th>\n",
       "      <td>0.345645</td>\n",
       "    </tr>\n",
       "    <tr>\n",
       "      <th>JABBA</th>\n",
       "      <td>0.342892</td>\n",
       "    </tr>\n",
       "  </tbody>\n",
       "</table>\n",
       "</div>"
      ],
      "text/plain": [
       "             ANAKIN/VADER\n",
       "OBI-WAN          0.374823\n",
       "YODA             0.374823\n",
       "LUKE             0.354217\n",
       "BIB FORTUNA      0.345645\n",
       "JABBA            0.342892"
      ]
     },
     "metadata": {},
     "output_type": "display_data"
    }
   ],
   "source": [
    "for i in sim_rank_by_movie:\n",
    "    print(i)\n",
    "    display(sim_rank_by_movie[i].head(5))"
   ]
  },
  {
   "cell_type": "code",
   "execution_count": 12,
   "metadata": {},
   "outputs": [
    {
     "data": {
      "text/html": [
       "<div>\n",
       "<style scoped>\n",
       "    .dataframe tbody tr th:only-of-type {\n",
       "        vertical-align: middle;\n",
       "    }\n",
       "\n",
       "    .dataframe tbody tr th {\n",
       "        vertical-align: top;\n",
       "    }\n",
       "\n",
       "    .dataframe thead th {\n",
       "        text-align: right;\n",
       "    }\n",
       "</style>\n",
       "<table border=\"1\" class=\"dataframe\">\n",
       "  <thead>\n",
       "    <tr style=\"text-align: right;\">\n",
       "      <th></th>\n",
       "      <th>Cosine Similarity</th>\n",
       "    </tr>\n",
       "  </thead>\n",
       "  <tbody>\n",
       "    <tr>\n",
       "      <th>episode-1 and episode-2</th>\n",
       "      <td>0.428486</td>\n",
       "    </tr>\n",
       "    <tr>\n",
       "      <th>episode-2 and episode-3</th>\n",
       "      <td>0.444432</td>\n",
       "    </tr>\n",
       "    <tr>\n",
       "      <th>episode-3 and episode-4</th>\n",
       "      <td>0.138636</td>\n",
       "    </tr>\n",
       "    <tr>\n",
       "      <th>episode-4 and episode-5</th>\n",
       "      <td>0.387471</td>\n",
       "    </tr>\n",
       "    <tr>\n",
       "      <th>episode-5 and episode-6</th>\n",
       "      <td>0.616836</td>\n",
       "    </tr>\n",
       "  </tbody>\n",
       "</table>\n",
       "</div>"
      ],
      "text/plain": [
       "                         Cosine Similarity\n",
       "episode-1 and episode-2           0.428486\n",
       "episode-2 and episode-3           0.444432\n",
       "episode-3 and episode-4           0.138636\n",
       "episode-4 and episode-5           0.387471\n",
       "episode-5 and episode-6           0.616836"
      ]
     },
     "execution_count": 12,
     "metadata": {},
     "output_type": "execute_result"
    }
   ],
   "source": [
    "\n",
    "movies = list(sim_rank_by_movie.keys())\n",
    "all_cos = {}\n",
    "for i in range(len(movies)-1):\n",
    "    cos = calc_sim_rank(sim_rank_by_movie[movies[i]],sim_rank_by_movie[movies[i+1]])\n",
    "    cur_key = str('-'.join(movies[i].split('-')[1:3])+\" and \"+'-'.join(movies[i+1].split('-')[1:3]))\n",
    "    all_cos[cur_key] = cos\n",
    "        \n",
    "        \n",
    "\n",
    "cos_pd = pd.DataFrame(data = all_cos.values(),index=all_cos.keys())\n",
    "cos_pd.rename({0:'Cosine Similarity'},inplace=True,axis=1)\n",
    "cos_pd\n"
   ]
  },
  {
   "cell_type": "code",
   "execution_count": null,
   "metadata": {},
   "outputs": [],
   "source": []
  }
 ],
 "metadata": {
  "kernelspec": {
   "display_name": "Python 3",
   "language": "python",
   "name": "python3"
  },
  "language_info": {
   "codemirror_mode": {
    "name": "ipython",
    "version": 3
   },
   "file_extension": ".py",
   "mimetype": "text/x-python",
   "name": "python",
   "nbconvert_exporter": "python",
   "pygments_lexer": "ipython3",
   "version": "3.8.5"
  }
 },
 "nbformat": 4,
 "nbformat_minor": 4
}
